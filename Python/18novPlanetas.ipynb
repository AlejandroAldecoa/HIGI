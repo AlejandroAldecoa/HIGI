{
 "cells": [
  {
   "cell_type": "code",
   "execution_count": 1,
   "id": "465013e7-67b4-48d4-bc99-62676eda3411",
   "metadata": {},
   "outputs": [],
   "source": [
    "import numpy as np\n",
    "import matplotlib.pyplot as plt\n",
    "import sympy"
   ]
  },
  {
   "cell_type": "code",
   "execution_count": 3,
   "id": "c60d4b0f-3c80-43d2-a101-8e90b5ac3222",
   "metadata": {},
   "outputs": [],
   "source": [
    "G=4*np.pi*np.pi/365\n",
    "M=1"
   ]
  },
  {
   "cell_type": "code",
   "execution_count": 18,
   "id": "b8e3dcba-bdb6-42c2-b1f6-4bc729fc3dc3",
   "metadata": {},
   "outputs": [],
   "source": [
    "def solar1(x0,y0,z0,vx0,vy0,vz0,t0=0,dt=0.0001,nsteps=365):\n",
    "    x=[x0]\n",
    "    y=[y0]\n",
    "    z=[z0]\n",
    "    vx=[vx0]\n",
    "    vy=[vy0]\n",
    "    vz=[vz0]\n",
    "    t=[t0]\n",
    "    for i in range(0,nsteps):\n",
    "        r=np.sqrt(x0**2+y0**2+z0**2)\n",
    "        vxi=vx0-G*M*x0*dt/r**3\n",
    "        xi=x0+vx0*dt\n",
    "        x.append(xi)\n",
    "        t.append(t0+dt*i)\n",
    "        x0=xi\n",
    "        vx0=vxi\n",
    "        vyi=vy0-G*M*y0*dt/r**3\n",
    "        yi=x0+vy0*dt\n",
    "        y.append(yi)\n",
    "        y0=yi\n",
    "        vy0=vyi\n",
    "        vzi=vz0-G*M*z0*dt/r**3\n",
    "        zi=x0+vz0*dt\n",
    "        z.append(zi)\n",
    "        z0=zi\n",
    "        vz0=vzi\n",
    "    return x,y,z,vx,vy,vz,t,r"
   ]
  },
  {
   "cell_type": "code",
   "execution_count": 20,
   "id": "39152598-c113-45cc-a000-2447c91ed8c6",
   "metadata": {},
   "outputs": [
    {
     "ename": "NameError",
     "evalue": "name 'np' is not defined",
     "output_type": "error",
     "traceback": [
      "\u001b[0;31m---------------------------------------------------------------------------\u001b[0m",
      "\u001b[0;31mNameError\u001b[0m                                 Traceback (most recent call last)",
      "Cell \u001b[0;32mIn [20], line 1\u001b[0m\n\u001b[0;32m----> 1\u001b[0m x,y,z,vx,vy,vz,t\u001b[38;5;241m=\u001b[39m\u001b[43msolar1\u001b[49m\u001b[43m(\u001b[49m\u001b[38;5;241;43m0.0508011\u001b[39;49m\u001b[43m,\u001b[49m\u001b[43m \u001b[49m\u001b[38;5;241;43m-\u001b[39;49m\u001b[38;5;241;43m0.4011642\u001b[39;49m\u001b[43m,\u001b[49m\u001b[43m \u001b[49m\u001b[38;5;241;43m-\u001b[39;49m\u001b[38;5;241;43m0.2165576\u001b[39;49m\u001b[43m,\u001b[49m\u001b[43m \u001b[49m\u001b[38;5;241;43m0.2231875\u001b[39;49m\u001b[43m,\u001b[49m\u001b[43m \u001b[49m\u001b[38;5;241;43m0.00485583\u001b[39;49m\u001b[43m,\u001b[49m\u001b[43m \u001b[49m\u001b[38;5;241;43m0.00027924\u001b[39;49m\u001b[43m,\u001b[49m\u001b[43m \u001b[49m\u001b[43mnsteps\u001b[49m\u001b[38;5;241;43m=\u001b[39;49m\u001b[38;5;241;43m36500\u001b[39;49m\u001b[43m)\u001b[49m\n\u001b[1;32m      2\u001b[0m plt\u001b[38;5;241m.\u001b[39mplot(x,y)\n",
      "Cell \u001b[0;32mIn [18], line 10\u001b[0m, in \u001b[0;36msolar1\u001b[0;34m(x0, y0, z0, vx0, vy0, vz0, t0, dt, nsteps)\u001b[0m\n\u001b[1;32m      8\u001b[0m t\u001b[38;5;241m=\u001b[39m[t0]\n\u001b[1;32m      9\u001b[0m \u001b[38;5;28;01mfor\u001b[39;00m i \u001b[38;5;129;01min\u001b[39;00m \u001b[38;5;28mrange\u001b[39m(\u001b[38;5;241m0\u001b[39m,nsteps):\n\u001b[0;32m---> 10\u001b[0m     r\u001b[38;5;241m=\u001b[39m\u001b[43mnp\u001b[49m\u001b[38;5;241m.\u001b[39msqrt(x0\u001b[38;5;241m*\u001b[39m\u001b[38;5;241m*\u001b[39m\u001b[38;5;241m2\u001b[39m\u001b[38;5;241m+\u001b[39my0\u001b[38;5;241m*\u001b[39m\u001b[38;5;241m*\u001b[39m\u001b[38;5;241m2\u001b[39m\u001b[38;5;241m+\u001b[39mz0\u001b[38;5;241m*\u001b[39m\u001b[38;5;241m*\u001b[39m\u001b[38;5;241m2\u001b[39m)\n\u001b[1;32m     11\u001b[0m     vxi\u001b[38;5;241m=\u001b[39mvx0\u001b[38;5;241m-\u001b[39mG\u001b[38;5;241m*\u001b[39mM\u001b[38;5;241m*\u001b[39mx0\u001b[38;5;241m*\u001b[39mdt\u001b[38;5;241m/\u001b[39mr\u001b[38;5;241m*\u001b[39m\u001b[38;5;241m*\u001b[39m\u001b[38;5;241m3\u001b[39m\n\u001b[1;32m     12\u001b[0m     xi\u001b[38;5;241m=\u001b[39mx0\u001b[38;5;241m+\u001b[39mvx0\u001b[38;5;241m*\u001b[39mdt\n",
      "\u001b[0;31mNameError\u001b[0m: name 'np' is not defined"
     ]
    }
   ],
   "source": [
    "x,y,z,vx,vy,vz,t=solar1(0.0508011, -0.4011642, -0.2165576, 0.2231875, 0.00485583, 0.00027924, nsteps=36500)\n",
    "plt.plot(x,y)"
   ]
  },
  {
   "cell_type": "code",
   "execution_count": null,
   "id": "9b7211a2-86fd-446a-a2df-6abc31fdd35b",
   "metadata": {},
   "outputs": [],
   "source": []
  }
 ],
 "metadata": {
  "kernelspec": {
   "display_name": "Python 3 (ipykernel)",
   "language": "python",
   "name": "python3"
  },
  "language_info": {
   "codemirror_mode": {
    "name": "ipython",
    "version": 3
   },
   "file_extension": ".py",
   "mimetype": "text/x-python",
   "name": "python",
   "nbconvert_exporter": "python",
   "pygments_lexer": "ipython3",
   "version": "3.10.8"
  }
 },
 "nbformat": 4,
 "nbformat_minor": 5
}
